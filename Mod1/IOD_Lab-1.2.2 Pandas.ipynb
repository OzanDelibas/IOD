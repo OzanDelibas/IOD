{
 "cells": [
  {
   "cell_type": "markdown",
   "metadata": {
    "id": "ZvGuEYgDsohG"
   },
   "source": [
    "<div>\n",
    "<img src=https://www.institutedata.com/wp-content/uploads/2019/10/iod_h_tp_primary_c.svg width=\"300\">\n",
    "</div>"
   ]
  },
  {
   "cell_type": "code",
   "execution_count": 3,
   "metadata": {
    "id": "k1hOvGzedsoO"
   },
   "outputs": [],
   "source": [
    "import numpy as np\n",
    "import pandas as pd\n",
    "import matplotlib.pyplot as plt\n",
    "from scipy import stats\n",
    "# get matplot to show charts inline\n",
    "%matplotlib inline"
   ]
  },
  {
   "cell_type": "markdown",
   "metadata": {
    "id": "idwTm8QinAE9"
   },
   "source": [
    "chrome://settings/content/cookies\n",
    "\n",
    "NOTE: Make sure third party cookies are not blocked."
   ]
  },
  {
   "cell_type": "code",
   "execution_count": null,
   "metadata": {},
   "outputs": [],
   "source": []
  },
  {
   "cell_type": "code",
   "execution_count": 11,
   "metadata": {},
   "outputs": [
    {
     "name": "stdout",
     "output_type": "stream",
     "text": [
      "       EmployeeID   recorddate_key birthdate_key orighiredate_key  \\\n",
      "0            1318  12/31/2006 0:00      1/3/1954        8/28/1989   \n",
      "1            1318  12/31/2007 0:00      1/3/1954        8/28/1989   \n",
      "2            1318  12/31/2008 0:00      1/3/1954        8/28/1989   \n",
      "3            1318  12/31/2009 0:00      1/3/1954        8/28/1989   \n",
      "4            1318  12/31/2010 0:00      1/3/1954        8/28/1989   \n",
      "...           ...              ...           ...              ...   \n",
      "49648        8258   12/1/2015 0:00     5/28/1994        8/19/2013   \n",
      "49649        8264    8/1/2013 0:00     6/13/1994        8/27/2013   \n",
      "49650        8279   12/1/2015 0:00     7/18/1994        9/15/2013   \n",
      "49651        8296   12/1/2013 0:00      9/2/1994        10/9/2013   \n",
      "49652        8321   12/1/2014 0:00    11/28/1994       11/24/2013   \n",
      "\n",
      "      terminationdate_key  age  length_of_service    city_name  \\\n",
      "0                1/1/1900   52                 17    Vancouver   \n",
      "1                1/1/1900   53                 18    Vancouver   \n",
      "2                1/1/1900   54                 19    Vancouver   \n",
      "3                1/1/1900   55                 20    Vancouver   \n",
      "4                1/1/1900   56                 21    Vancouver   \n",
      "...                   ...  ...                ...          ...   \n",
      "49648          12/30/2015   21                  2    Valemount   \n",
      "49649           8/30/2013   19                  0    Vancouver   \n",
      "49650          12/30/2015   21                  2   White Rock   \n",
      "49651          12/31/2013   19                  0      Kelowna   \n",
      "49652          12/30/2014   20                  1  Grand Forks   \n",
      "\n",
      "        department_name     job_title  store_name gender_short gender_full  \\\n",
      "0             Executive           CEO          35            M        Male   \n",
      "1             Executive           CEO          35            M        Male   \n",
      "2             Executive           CEO          35            M        Male   \n",
      "3             Executive           CEO          35            M        Male   \n",
      "4             Executive           CEO          35            M        Male   \n",
      "...                 ...           ...         ...          ...         ...   \n",
      "49648             Dairy  Dairy Person          34            M        Male   \n",
      "49649  Customer Service       Cashier          44            F      Female   \n",
      "49650  Customer Service       Cashier          39            F      Female   \n",
      "49651  Customer Service       Cashier          16            F      Female   \n",
      "49652  Customer Service       Cashier          13            F      Female   \n",
      "\n",
      "      termreason_desc   termtype_desc  STATUS_YEAR      STATUS BUSINESS_UNIT  \n",
      "0      Not Applicable  Not Applicable         2006      ACTIVE    HEADOFFICE  \n",
      "1      Not Applicable  Not Applicable         2007      ACTIVE    HEADOFFICE  \n",
      "2      Not Applicable  Not Applicable         2008      ACTIVE    HEADOFFICE  \n",
      "3      Not Applicable  Not Applicable         2009      ACTIVE    HEADOFFICE  \n",
      "4      Not Applicable  Not Applicable         2010      ACTIVE    HEADOFFICE  \n",
      "...               ...             ...          ...         ...           ...  \n",
      "49648          Layoff     Involuntary         2015  TERMINATED        STORES  \n",
      "49649      Resignaton       Voluntary         2013  TERMINATED        STORES  \n",
      "49650          Layoff     Involuntary         2015  TERMINATED        STORES  \n",
      "49651      Resignaton       Voluntary         2013  TERMINATED        STORES  \n",
      "49652          Layoff     Involuntary         2014  TERMINATED        STORES  \n",
      "\n",
      "[49653 rows x 18 columns]\n"
     ]
    }
   ],
   "source": [
    "df=pd.read_csv(\"Employee-attrition.csv\")\n",
    "print(df)\n",
    "\n"
   ]
  },
  {
   "cell_type": "code",
   "execution_count": 2,
   "metadata": {
    "id": "cPmJnMzgdsoR"
   },
   "outputs": [],
   "source": [
    "df = pd.read_csv(\"Employee-attrition.csv\")\n"
   ]
  },
  {
   "cell_type": "code",
   "execution_count": 3,
   "metadata": {
    "colab": {
     "base_uri": "https://localhost:8080/",
     "height": 427
    },
    "executionInfo": {
     "elapsed": 398,
     "status": "ok",
     "timestamp": 1678513495985,
     "user": {
      "displayName": "Ashish Ahuja",
      "userId": "14201169097260034647"
     },
     "user_tz": -660
    },
    "id": "0g0YHDJ1dsoT",
    "outputId": "7f0b49d8-5439-4af7-aff1-15ec50d41504"
   },
   "outputs": [
    {
     "data": {
      "text/html": [
       "<div>\n",
       "<style scoped>\n",
       "    .dataframe tbody tr th:only-of-type {\n",
       "        vertical-align: middle;\n",
       "    }\n",
       "\n",
       "    .dataframe tbody tr th {\n",
       "        vertical-align: top;\n",
       "    }\n",
       "\n",
       "    .dataframe thead th {\n",
       "        text-align: right;\n",
       "    }\n",
       "</style>\n",
       "<table border=\"1\" class=\"dataframe\">\n",
       "  <thead>\n",
       "    <tr style=\"text-align: right;\">\n",
       "      <th></th>\n",
       "      <th>EmployeeID</th>\n",
       "      <th>recorddate_key</th>\n",
       "      <th>birthdate_key</th>\n",
       "      <th>orighiredate_key</th>\n",
       "      <th>terminationdate_key</th>\n",
       "      <th>age</th>\n",
       "      <th>length_of_service</th>\n",
       "      <th>city_name</th>\n",
       "      <th>department_name</th>\n",
       "      <th>job_title</th>\n",
       "      <th>store_name</th>\n",
       "      <th>gender_short</th>\n",
       "      <th>gender_full</th>\n",
       "      <th>termreason_desc</th>\n",
       "      <th>termtype_desc</th>\n",
       "      <th>STATUS_YEAR</th>\n",
       "      <th>STATUS</th>\n",
       "      <th>BUSINESS_UNIT</th>\n",
       "    </tr>\n",
       "  </thead>\n",
       "  <tbody>\n",
       "    <tr>\n",
       "      <th>0</th>\n",
       "      <td>1318</td>\n",
       "      <td>12/31/2006 0:00</td>\n",
       "      <td>1/3/1954</td>\n",
       "      <td>8/28/1989</td>\n",
       "      <td>1/1/1900</td>\n",
       "      <td>52</td>\n",
       "      <td>17</td>\n",
       "      <td>Vancouver</td>\n",
       "      <td>Executive</td>\n",
       "      <td>CEO</td>\n",
       "      <td>35</td>\n",
       "      <td>M</td>\n",
       "      <td>Male</td>\n",
       "      <td>Not Applicable</td>\n",
       "      <td>Not Applicable</td>\n",
       "      <td>2006</td>\n",
       "      <td>ACTIVE</td>\n",
       "      <td>HEADOFFICE</td>\n",
       "    </tr>\n",
       "    <tr>\n",
       "      <th>1</th>\n",
       "      <td>1318</td>\n",
       "      <td>12/31/2007 0:00</td>\n",
       "      <td>1/3/1954</td>\n",
       "      <td>8/28/1989</td>\n",
       "      <td>1/1/1900</td>\n",
       "      <td>53</td>\n",
       "      <td>18</td>\n",
       "      <td>Vancouver</td>\n",
       "      <td>Executive</td>\n",
       "      <td>CEO</td>\n",
       "      <td>35</td>\n",
       "      <td>M</td>\n",
       "      <td>Male</td>\n",
       "      <td>Not Applicable</td>\n",
       "      <td>Not Applicable</td>\n",
       "      <td>2007</td>\n",
       "      <td>ACTIVE</td>\n",
       "      <td>HEADOFFICE</td>\n",
       "    </tr>\n",
       "    <tr>\n",
       "      <th>2</th>\n",
       "      <td>1318</td>\n",
       "      <td>12/31/2008 0:00</td>\n",
       "      <td>1/3/1954</td>\n",
       "      <td>8/28/1989</td>\n",
       "      <td>1/1/1900</td>\n",
       "      <td>54</td>\n",
       "      <td>19</td>\n",
       "      <td>Vancouver</td>\n",
       "      <td>Executive</td>\n",
       "      <td>CEO</td>\n",
       "      <td>35</td>\n",
       "      <td>M</td>\n",
       "      <td>Male</td>\n",
       "      <td>Not Applicable</td>\n",
       "      <td>Not Applicable</td>\n",
       "      <td>2008</td>\n",
       "      <td>ACTIVE</td>\n",
       "      <td>HEADOFFICE</td>\n",
       "    </tr>\n",
       "    <tr>\n",
       "      <th>3</th>\n",
       "      <td>1318</td>\n",
       "      <td>12/31/2009 0:00</td>\n",
       "      <td>1/3/1954</td>\n",
       "      <td>8/28/1989</td>\n",
       "      <td>1/1/1900</td>\n",
       "      <td>55</td>\n",
       "      <td>20</td>\n",
       "      <td>Vancouver</td>\n",
       "      <td>Executive</td>\n",
       "      <td>CEO</td>\n",
       "      <td>35</td>\n",
       "      <td>M</td>\n",
       "      <td>Male</td>\n",
       "      <td>Not Applicable</td>\n",
       "      <td>Not Applicable</td>\n",
       "      <td>2009</td>\n",
       "      <td>ACTIVE</td>\n",
       "      <td>HEADOFFICE</td>\n",
       "    </tr>\n",
       "    <tr>\n",
       "      <th>4</th>\n",
       "      <td>1318</td>\n",
       "      <td>12/31/2010 0:00</td>\n",
       "      <td>1/3/1954</td>\n",
       "      <td>8/28/1989</td>\n",
       "      <td>1/1/1900</td>\n",
       "      <td>56</td>\n",
       "      <td>21</td>\n",
       "      <td>Vancouver</td>\n",
       "      <td>Executive</td>\n",
       "      <td>CEO</td>\n",
       "      <td>35</td>\n",
       "      <td>M</td>\n",
       "      <td>Male</td>\n",
       "      <td>Not Applicable</td>\n",
       "      <td>Not Applicable</td>\n",
       "      <td>2010</td>\n",
       "      <td>ACTIVE</td>\n",
       "      <td>HEADOFFICE</td>\n",
       "    </tr>\n",
       "    <tr>\n",
       "      <th>5</th>\n",
       "      <td>1318</td>\n",
       "      <td>12/31/2011 0:00</td>\n",
       "      <td>1/3/1954</td>\n",
       "      <td>8/28/1989</td>\n",
       "      <td>1/1/1900</td>\n",
       "      <td>57</td>\n",
       "      <td>22</td>\n",
       "      <td>Vancouver</td>\n",
       "      <td>Executive</td>\n",
       "      <td>CEO</td>\n",
       "      <td>35</td>\n",
       "      <td>M</td>\n",
       "      <td>Male</td>\n",
       "      <td>Not Applicable</td>\n",
       "      <td>Not Applicable</td>\n",
       "      <td>2011</td>\n",
       "      <td>ACTIVE</td>\n",
       "      <td>HEADOFFICE</td>\n",
       "    </tr>\n",
       "    <tr>\n",
       "      <th>6</th>\n",
       "      <td>1318</td>\n",
       "      <td>12/31/2012 0:00</td>\n",
       "      <td>1/3/1954</td>\n",
       "      <td>8/28/1989</td>\n",
       "      <td>1/1/1900</td>\n",
       "      <td>58</td>\n",
       "      <td>23</td>\n",
       "      <td>Vancouver</td>\n",
       "      <td>Executive</td>\n",
       "      <td>CEO</td>\n",
       "      <td>35</td>\n",
       "      <td>M</td>\n",
       "      <td>Male</td>\n",
       "      <td>Not Applicable</td>\n",
       "      <td>Not Applicable</td>\n",
       "      <td>2012</td>\n",
       "      <td>ACTIVE</td>\n",
       "      <td>HEADOFFICE</td>\n",
       "    </tr>\n",
       "    <tr>\n",
       "      <th>7</th>\n",
       "      <td>1318</td>\n",
       "      <td>12/31/2013 0:00</td>\n",
       "      <td>1/3/1954</td>\n",
       "      <td>8/28/1989</td>\n",
       "      <td>1/1/1900</td>\n",
       "      <td>59</td>\n",
       "      <td>24</td>\n",
       "      <td>Vancouver</td>\n",
       "      <td>Executive</td>\n",
       "      <td>CEO</td>\n",
       "      <td>35</td>\n",
       "      <td>M</td>\n",
       "      <td>Male</td>\n",
       "      <td>Not Applicable</td>\n",
       "      <td>Not Applicable</td>\n",
       "      <td>2013</td>\n",
       "      <td>ACTIVE</td>\n",
       "      <td>HEADOFFICE</td>\n",
       "    </tr>\n",
       "    <tr>\n",
       "      <th>8</th>\n",
       "      <td>1318</td>\n",
       "      <td>12/31/2014 0:00</td>\n",
       "      <td>1/3/1954</td>\n",
       "      <td>8/28/1989</td>\n",
       "      <td>1/1/1900</td>\n",
       "      <td>60</td>\n",
       "      <td>25</td>\n",
       "      <td>Vancouver</td>\n",
       "      <td>Executive</td>\n",
       "      <td>CEO</td>\n",
       "      <td>35</td>\n",
       "      <td>M</td>\n",
       "      <td>Male</td>\n",
       "      <td>Not Applicable</td>\n",
       "      <td>Not Applicable</td>\n",
       "      <td>2014</td>\n",
       "      <td>ACTIVE</td>\n",
       "      <td>HEADOFFICE</td>\n",
       "    </tr>\n",
       "    <tr>\n",
       "      <th>9</th>\n",
       "      <td>1318</td>\n",
       "      <td>12/31/2015 0:00</td>\n",
       "      <td>1/3/1954</td>\n",
       "      <td>8/28/1989</td>\n",
       "      <td>1/1/1900</td>\n",
       "      <td>61</td>\n",
       "      <td>26</td>\n",
       "      <td>Vancouver</td>\n",
       "      <td>Executive</td>\n",
       "      <td>CEO</td>\n",
       "      <td>35</td>\n",
       "      <td>M</td>\n",
       "      <td>Male</td>\n",
       "      <td>Not Applicable</td>\n",
       "      <td>Not Applicable</td>\n",
       "      <td>2015</td>\n",
       "      <td>ACTIVE</td>\n",
       "      <td>HEADOFFICE</td>\n",
       "    </tr>\n",
       "  </tbody>\n",
       "</table>\n",
       "</div>"
      ],
      "text/plain": [
       "   EmployeeID   recorddate_key birthdate_key orighiredate_key  \\\n",
       "0        1318  12/31/2006 0:00      1/3/1954        8/28/1989   \n",
       "1        1318  12/31/2007 0:00      1/3/1954        8/28/1989   \n",
       "2        1318  12/31/2008 0:00      1/3/1954        8/28/1989   \n",
       "3        1318  12/31/2009 0:00      1/3/1954        8/28/1989   \n",
       "4        1318  12/31/2010 0:00      1/3/1954        8/28/1989   \n",
       "5        1318  12/31/2011 0:00      1/3/1954        8/28/1989   \n",
       "6        1318  12/31/2012 0:00      1/3/1954        8/28/1989   \n",
       "7        1318  12/31/2013 0:00      1/3/1954        8/28/1989   \n",
       "8        1318  12/31/2014 0:00      1/3/1954        8/28/1989   \n",
       "9        1318  12/31/2015 0:00      1/3/1954        8/28/1989   \n",
       "\n",
       "  terminationdate_key  age  length_of_service  city_name department_name  \\\n",
       "0            1/1/1900   52                 17  Vancouver       Executive   \n",
       "1            1/1/1900   53                 18  Vancouver       Executive   \n",
       "2            1/1/1900   54                 19  Vancouver       Executive   \n",
       "3            1/1/1900   55                 20  Vancouver       Executive   \n",
       "4            1/1/1900   56                 21  Vancouver       Executive   \n",
       "5            1/1/1900   57                 22  Vancouver       Executive   \n",
       "6            1/1/1900   58                 23  Vancouver       Executive   \n",
       "7            1/1/1900   59                 24  Vancouver       Executive   \n",
       "8            1/1/1900   60                 25  Vancouver       Executive   \n",
       "9            1/1/1900   61                 26  Vancouver       Executive   \n",
       "\n",
       "  job_title  store_name gender_short gender_full termreason_desc  \\\n",
       "0       CEO          35            M        Male  Not Applicable   \n",
       "1       CEO          35            M        Male  Not Applicable   \n",
       "2       CEO          35            M        Male  Not Applicable   \n",
       "3       CEO          35            M        Male  Not Applicable   \n",
       "4       CEO          35            M        Male  Not Applicable   \n",
       "5       CEO          35            M        Male  Not Applicable   \n",
       "6       CEO          35            M        Male  Not Applicable   \n",
       "7       CEO          35            M        Male  Not Applicable   \n",
       "8       CEO          35            M        Male  Not Applicable   \n",
       "9       CEO          35            M        Male  Not Applicable   \n",
       "\n",
       "    termtype_desc  STATUS_YEAR  STATUS BUSINESS_UNIT  \n",
       "0  Not Applicable         2006  ACTIVE    HEADOFFICE  \n",
       "1  Not Applicable         2007  ACTIVE    HEADOFFICE  \n",
       "2  Not Applicable         2008  ACTIVE    HEADOFFICE  \n",
       "3  Not Applicable         2009  ACTIVE    HEADOFFICE  \n",
       "4  Not Applicable         2010  ACTIVE    HEADOFFICE  \n",
       "5  Not Applicable         2011  ACTIVE    HEADOFFICE  \n",
       "6  Not Applicable         2012  ACTIVE    HEADOFFICE  \n",
       "7  Not Applicable         2013  ACTIVE    HEADOFFICE  \n",
       "8  Not Applicable         2014  ACTIVE    HEADOFFICE  \n",
       "9  Not Applicable         2015  ACTIVE    HEADOFFICE  "
      ]
     },
     "execution_count": 3,
     "metadata": {},
     "output_type": "execute_result"
    }
   ],
   "source": [
    "df.head(10)"
   ]
  },
  {
   "cell_type": "code",
   "execution_count": 4,
   "metadata": {
    "colab": {
     "base_uri": "https://localhost:8080/",
     "height": 267
    },
    "id": "NGFbwlODdsoX",
    "outputId": "d231d474-93bf-4624-86d4-dc15c58921fd"
   },
   "outputs": [
    {
     "data": {
      "text/html": [
       "<div>\n",
       "<style scoped>\n",
       "    .dataframe tbody tr th:only-of-type {\n",
       "        vertical-align: middle;\n",
       "    }\n",
       "\n",
       "    .dataframe tbody tr th {\n",
       "        vertical-align: top;\n",
       "    }\n",
       "\n",
       "    .dataframe thead th {\n",
       "        text-align: right;\n",
       "    }\n",
       "</style>\n",
       "<table border=\"1\" class=\"dataframe\">\n",
       "  <thead>\n",
       "    <tr style=\"text-align: right;\">\n",
       "      <th></th>\n",
       "      <th>EmployeeID</th>\n",
       "      <th>recorddate_key</th>\n",
       "      <th>birthdate_key</th>\n",
       "      <th>orighiredate_key</th>\n",
       "      <th>terminationdate_key</th>\n",
       "      <th>age</th>\n",
       "      <th>length_of_service</th>\n",
       "      <th>city_name</th>\n",
       "      <th>department_name</th>\n",
       "      <th>job_title</th>\n",
       "      <th>store_name</th>\n",
       "      <th>gender_short</th>\n",
       "      <th>gender_full</th>\n",
       "      <th>termreason_desc</th>\n",
       "      <th>termtype_desc</th>\n",
       "      <th>STATUS_YEAR</th>\n",
       "      <th>STATUS</th>\n",
       "      <th>BUSINESS_UNIT</th>\n",
       "    </tr>\n",
       "  </thead>\n",
       "  <tbody>\n",
       "    <tr>\n",
       "      <th>49648</th>\n",
       "      <td>8258</td>\n",
       "      <td>12/1/2015 0:00</td>\n",
       "      <td>5/28/1994</td>\n",
       "      <td>8/19/2013</td>\n",
       "      <td>12/30/2015</td>\n",
       "      <td>21</td>\n",
       "      <td>2</td>\n",
       "      <td>Valemount</td>\n",
       "      <td>Dairy</td>\n",
       "      <td>Dairy Person</td>\n",
       "      <td>34</td>\n",
       "      <td>M</td>\n",
       "      <td>Male</td>\n",
       "      <td>Layoff</td>\n",
       "      <td>Involuntary</td>\n",
       "      <td>2015</td>\n",
       "      <td>TERMINATED</td>\n",
       "      <td>STORES</td>\n",
       "    </tr>\n",
       "    <tr>\n",
       "      <th>49649</th>\n",
       "      <td>8264</td>\n",
       "      <td>8/1/2013 0:00</td>\n",
       "      <td>6/13/1994</td>\n",
       "      <td>8/27/2013</td>\n",
       "      <td>8/30/2013</td>\n",
       "      <td>19</td>\n",
       "      <td>0</td>\n",
       "      <td>Vancouver</td>\n",
       "      <td>Customer Service</td>\n",
       "      <td>Cashier</td>\n",
       "      <td>44</td>\n",
       "      <td>F</td>\n",
       "      <td>Female</td>\n",
       "      <td>Resignaton</td>\n",
       "      <td>Voluntary</td>\n",
       "      <td>2013</td>\n",
       "      <td>TERMINATED</td>\n",
       "      <td>STORES</td>\n",
       "    </tr>\n",
       "    <tr>\n",
       "      <th>49650</th>\n",
       "      <td>8279</td>\n",
       "      <td>12/1/2015 0:00</td>\n",
       "      <td>7/18/1994</td>\n",
       "      <td>9/15/2013</td>\n",
       "      <td>12/30/2015</td>\n",
       "      <td>21</td>\n",
       "      <td>2</td>\n",
       "      <td>White Rock</td>\n",
       "      <td>Customer Service</td>\n",
       "      <td>Cashier</td>\n",
       "      <td>39</td>\n",
       "      <td>F</td>\n",
       "      <td>Female</td>\n",
       "      <td>Layoff</td>\n",
       "      <td>Involuntary</td>\n",
       "      <td>2015</td>\n",
       "      <td>TERMINATED</td>\n",
       "      <td>STORES</td>\n",
       "    </tr>\n",
       "    <tr>\n",
       "      <th>49651</th>\n",
       "      <td>8296</td>\n",
       "      <td>12/1/2013 0:00</td>\n",
       "      <td>9/2/1994</td>\n",
       "      <td>10/9/2013</td>\n",
       "      <td>12/31/2013</td>\n",
       "      <td>19</td>\n",
       "      <td>0</td>\n",
       "      <td>Kelowna</td>\n",
       "      <td>Customer Service</td>\n",
       "      <td>Cashier</td>\n",
       "      <td>16</td>\n",
       "      <td>F</td>\n",
       "      <td>Female</td>\n",
       "      <td>Resignaton</td>\n",
       "      <td>Voluntary</td>\n",
       "      <td>2013</td>\n",
       "      <td>TERMINATED</td>\n",
       "      <td>STORES</td>\n",
       "    </tr>\n",
       "    <tr>\n",
       "      <th>49652</th>\n",
       "      <td>8321</td>\n",
       "      <td>12/1/2014 0:00</td>\n",
       "      <td>11/28/1994</td>\n",
       "      <td>11/24/2013</td>\n",
       "      <td>12/30/2014</td>\n",
       "      <td>20</td>\n",
       "      <td>1</td>\n",
       "      <td>Grand Forks</td>\n",
       "      <td>Customer Service</td>\n",
       "      <td>Cashier</td>\n",
       "      <td>13</td>\n",
       "      <td>F</td>\n",
       "      <td>Female</td>\n",
       "      <td>Layoff</td>\n",
       "      <td>Involuntary</td>\n",
       "      <td>2014</td>\n",
       "      <td>TERMINATED</td>\n",
       "      <td>STORES</td>\n",
       "    </tr>\n",
       "  </tbody>\n",
       "</table>\n",
       "</div>"
      ],
      "text/plain": [
       "       EmployeeID  recorddate_key birthdate_key orighiredate_key  \\\n",
       "49648        8258  12/1/2015 0:00     5/28/1994        8/19/2013   \n",
       "49649        8264   8/1/2013 0:00     6/13/1994        8/27/2013   \n",
       "49650        8279  12/1/2015 0:00     7/18/1994        9/15/2013   \n",
       "49651        8296  12/1/2013 0:00      9/2/1994        10/9/2013   \n",
       "49652        8321  12/1/2014 0:00    11/28/1994       11/24/2013   \n",
       "\n",
       "      terminationdate_key  age  length_of_service    city_name  \\\n",
       "49648          12/30/2015   21                  2    Valemount   \n",
       "49649           8/30/2013   19                  0    Vancouver   \n",
       "49650          12/30/2015   21                  2   White Rock   \n",
       "49651          12/31/2013   19                  0      Kelowna   \n",
       "49652          12/30/2014   20                  1  Grand Forks   \n",
       "\n",
       "        department_name     job_title  store_name gender_short gender_full  \\\n",
       "49648             Dairy  Dairy Person          34            M        Male   \n",
       "49649  Customer Service       Cashier          44            F      Female   \n",
       "49650  Customer Service       Cashier          39            F      Female   \n",
       "49651  Customer Service       Cashier          16            F      Female   \n",
       "49652  Customer Service       Cashier          13            F      Female   \n",
       "\n",
       "      termreason_desc termtype_desc  STATUS_YEAR      STATUS BUSINESS_UNIT  \n",
       "49648          Layoff   Involuntary         2015  TERMINATED        STORES  \n",
       "49649      Resignaton     Voluntary         2013  TERMINATED        STORES  \n",
       "49650          Layoff   Involuntary         2015  TERMINATED        STORES  \n",
       "49651      Resignaton     Voluntary         2013  TERMINATED        STORES  \n",
       "49652          Layoff   Involuntary         2014  TERMINATED        STORES  "
      ]
     },
     "execution_count": 4,
     "metadata": {},
     "output_type": "execute_result"
    }
   ],
   "source": [
    "df.tail()"
   ]
  },
  {
   "cell_type": "markdown",
   "metadata": {
    "id": "xF6HM872n4r_"
   },
   "source": [
    "# Accessing the main DataFrame components"
   ]
  },
  {
   "cell_type": "code",
   "execution_count": 5,
   "metadata": {
    "id": "Mdr1r8Vjn8MW"
   },
   "outputs": [],
   "source": [
    "columns = df.columns\n",
    "index = df.index\n",
    "data = df.values"
   ]
  },
  {
   "cell_type": "code",
   "execution_count": 6,
   "metadata": {
    "colab": {
     "base_uri": "https://localhost:8080/"
    },
    "executionInfo": {
     "elapsed": 19,
     "status": "ok",
     "timestamp": 1678513585972,
     "user": {
      "displayName": "Ashish Ahuja",
      "userId": "14201169097260034647"
     },
     "user_tz": -660
    },
    "id": "ZswvXsbSoC_Z",
    "outputId": "1de3d02e-c4d8-4e61-e68e-0a5c81455327"
   },
   "outputs": [
    {
     "data": {
      "text/plain": [
       "Index(['EmployeeID', 'recorddate_key', 'birthdate_key', 'orighiredate_key',\n",
       "       'terminationdate_key', 'age', 'length_of_service', 'city_name',\n",
       "       'department_name', 'job_title', 'store_name', 'gender_short',\n",
       "       'gender_full', 'termreason_desc', 'termtype_desc', 'STATUS_YEAR',\n",
       "       'STATUS', 'BUSINESS_UNIT'],\n",
       "      dtype='object')"
      ]
     },
     "execution_count": 6,
     "metadata": {},
     "output_type": "execute_result"
    }
   ],
   "source": [
    "columns"
   ]
  },
  {
   "cell_type": "code",
   "execution_count": 37,
   "metadata": {
    "colab": {
     "base_uri": "https://localhost:8080/"
    },
    "executionInfo": {
     "elapsed": 13,
     "status": "ok",
     "timestamp": 1678513588840,
     "user": {
      "displayName": "Ashish Ahuja",
      "userId": "14201169097260034647"
     },
     "user_tz": -660
    },
    "id": "GLo6QO7BoEmP",
    "jupyter": {
     "source_hidden": true
    },
    "outputId": "bb303951-a717-4ff1-92af-0ebe7f9d9ee4",
    "tags": []
   },
   "outputs": [
    {
     "data": {
      "text/plain": [
       "RangeIndex(start=0, stop=49653, step=1)"
      ]
     },
     "execution_count": 37,
     "metadata": {},
     "output_type": "execute_result"
    }
   ],
   "source": [
    "index"
   ]
  },
  {
   "cell_type": "code",
   "execution_count": 8,
   "metadata": {
    "colab": {
     "base_uri": "https://localhost:8080/"
    },
    "executionInfo": {
     "elapsed": 363,
     "status": "ok",
     "timestamp": 1678513591755,
     "user": {
      "displayName": "Ashish Ahuja",
      "userId": "14201169097260034647"
     },
     "user_tz": -660
    },
    "id": "DOiXYBceoGPn",
    "outputId": "31f53954-5001-4d31-c34a-bb85dfa58e6a"
   },
   "outputs": [
    {
     "data": {
      "text/plain": [
       "array([[1318, '12/31/2006 0:00', '1/3/1954', ..., 2006, 'ACTIVE',\n",
       "        'HEADOFFICE'],\n",
       "       [1318, '12/31/2007 0:00', '1/3/1954', ..., 2007, 'ACTIVE',\n",
       "        'HEADOFFICE'],\n",
       "       [1318, '12/31/2008 0:00', '1/3/1954', ..., 2008, 'ACTIVE',\n",
       "        'HEADOFFICE'],\n",
       "       ...,\n",
       "       [8279, '12/1/2015 0:00', '7/18/1994', ..., 2015, 'TERMINATED',\n",
       "        'STORES'],\n",
       "       [8296, '12/1/2013 0:00', '9/2/1994', ..., 2013, 'TERMINATED',\n",
       "        'STORES'],\n",
       "       [8321, '12/1/2014 0:00', '11/28/1994', ..., 2014, 'TERMINATED',\n",
       "        'STORES']], dtype=object)"
      ]
     },
     "execution_count": 8,
     "metadata": {},
     "output_type": "execute_result"
    }
   ],
   "source": [
    "data"
   ]
  },
  {
   "cell_type": "markdown",
   "metadata": {
    "id": "3fec-2AUoPmk"
   },
   "source": [
    "# 1. Understanding Data Types"
   ]
  },
  {
   "cell_type": "markdown",
   "metadata": {
    "id": "TxadHP_NtXbK"
   },
   "source": [
    "#### 1.A Find the shape of the dataframe"
   ]
  },
  {
   "cell_type": "code",
   "execution_count": 5,
   "metadata": {
    "id": "ZLGMP4NRpqE5",
    "tags": []
   },
   "outputs": [
    {
     "name": "stdout",
     "output_type": "stream",
     "text": [
      "(49653, 18)\n"
     ]
    }
   ],
   "source": [
    "import numpy as np\n",
    "import pandas as pd\n",
    "import matplotlib.pyplot as plt\n",
    "from scipy import stats\n",
    "df=pd.read_csv(\"Employee-attrition.csv\")\n",
    "print(df.shape)\n",
    "\n",
    "\n"
   ]
  },
  {
   "cell_type": "code",
   "execution_count": 1,
   "metadata": {},
   "outputs": [
    {
     "data": {
      "text/plain": [
       "'C:\\\\Users\\\\admin\\\\Documents\\\\New Folder'"
      ]
     },
     "execution_count": 1,
     "metadata": {},
     "output_type": "execute_result"
    }
   ],
   "source": [
    "pwd"
   ]
  },
  {
   "cell_type": "markdown",
   "metadata": {
    "id": "oJX-CGXvuvR7"
   },
   "source": [
    "#### 1.B Find the data types of the dataframe"
   ]
  },
  {
   "cell_type": "code",
   "execution_count": 6,
   "metadata": {
    "id": "9-jcxa4JoUaF"
   },
   "outputs": [
    {
     "name": "stdout",
     "output_type": "stream",
     "text": [
      "EmployeeID              int64\n",
      "recorddate_key         object\n",
      "birthdate_key          object\n",
      "orighiredate_key       object\n",
      "terminationdate_key    object\n",
      "age                     int64\n",
      "length_of_service       int64\n",
      "city_name              object\n",
      "department_name        object\n",
      "job_title              object\n",
      "store_name              int64\n",
      "gender_short           object\n",
      "gender_full            object\n",
      "termreason_desc        object\n",
      "termtype_desc          object\n",
      "STATUS_YEAR             int64\n",
      "STATUS                 object\n",
      "BUSINESS_UNIT          object\n",
      "dtype: object\n"
     ]
    }
   ],
   "source": [
    "print(df.dtypes)\n"
   ]
  },
  {
   "cell_type": "markdown",
   "metadata": {
    "id": "F84ZM4giu3uX"
   },
   "source": [
    "#### 1.C Find the number of data types in the dataframe\n",
    "\n",
    "\n",
    "\n",
    "```\n",
    "Expected Output:\n",
    "int64      5\n",
    "object    13\n",
    "dtype: int64\n",
    "```\n",
    "\n"
   ]
  },
  {
   "cell_type": "markdown",
   "metadata": {
    "id": "1yyNZ1HIvGVp"
   },
   "source": [
    "#### 1.D Use Info\n",
    "\n",
    "Use info and explore the difference."
   ]
  },
  {
   "cell_type": "code",
   "execution_count": 7,
   "metadata": {
    "id": "br45XLTVoXsv"
   },
   "outputs": [
    {
     "name": "stdout",
     "output_type": "stream",
     "text": [
      "<bound method DataFrame.info of        EmployeeID   recorddate_key birthdate_key orighiredate_key  \\\n",
      "0            1318  12/31/2006 0:00      1/3/1954        8/28/1989   \n",
      "1            1318  12/31/2007 0:00      1/3/1954        8/28/1989   \n",
      "2            1318  12/31/2008 0:00      1/3/1954        8/28/1989   \n",
      "3            1318  12/31/2009 0:00      1/3/1954        8/28/1989   \n",
      "4            1318  12/31/2010 0:00      1/3/1954        8/28/1989   \n",
      "...           ...              ...           ...              ...   \n",
      "49648        8258   12/1/2015 0:00     5/28/1994        8/19/2013   \n",
      "49649        8264    8/1/2013 0:00     6/13/1994        8/27/2013   \n",
      "49650        8279   12/1/2015 0:00     7/18/1994        9/15/2013   \n",
      "49651        8296   12/1/2013 0:00      9/2/1994        10/9/2013   \n",
      "49652        8321   12/1/2014 0:00    11/28/1994       11/24/2013   \n",
      "\n",
      "      terminationdate_key  age  length_of_service    city_name  \\\n",
      "0                1/1/1900   52                 17    Vancouver   \n",
      "1                1/1/1900   53                 18    Vancouver   \n",
      "2                1/1/1900   54                 19    Vancouver   \n",
      "3                1/1/1900   55                 20    Vancouver   \n",
      "4                1/1/1900   56                 21    Vancouver   \n",
      "...                   ...  ...                ...          ...   \n",
      "49648          12/30/2015   21                  2    Valemount   \n",
      "49649           8/30/2013   19                  0    Vancouver   \n",
      "49650          12/30/2015   21                  2   White Rock   \n",
      "49651          12/31/2013   19                  0      Kelowna   \n",
      "49652          12/30/2014   20                  1  Grand Forks   \n",
      "\n",
      "        department_name     job_title  store_name gender_short gender_full  \\\n",
      "0             Executive           CEO          35            M        Male   \n",
      "1             Executive           CEO          35            M        Male   \n",
      "2             Executive           CEO          35            M        Male   \n",
      "3             Executive           CEO          35            M        Male   \n",
      "4             Executive           CEO          35            M        Male   \n",
      "...                 ...           ...         ...          ...         ...   \n",
      "49648             Dairy  Dairy Person          34            M        Male   \n",
      "49649  Customer Service       Cashier          44            F      Female   \n",
      "49650  Customer Service       Cashier          39            F      Female   \n",
      "49651  Customer Service       Cashier          16            F      Female   \n",
      "49652  Customer Service       Cashier          13            F      Female   \n",
      "\n",
      "      termreason_desc   termtype_desc  STATUS_YEAR      STATUS BUSINESS_UNIT  \n",
      "0      Not Applicable  Not Applicable         2006      ACTIVE    HEADOFFICE  \n",
      "1      Not Applicable  Not Applicable         2007      ACTIVE    HEADOFFICE  \n",
      "2      Not Applicable  Not Applicable         2008      ACTIVE    HEADOFFICE  \n",
      "3      Not Applicable  Not Applicable         2009      ACTIVE    HEADOFFICE  \n",
      "4      Not Applicable  Not Applicable         2010      ACTIVE    HEADOFFICE  \n",
      "...               ...             ...          ...         ...           ...  \n",
      "49648          Layoff     Involuntary         2015  TERMINATED        STORES  \n",
      "49649      Resignaton       Voluntary         2013  TERMINATED        STORES  \n",
      "49650          Layoff     Involuntary         2015  TERMINATED        STORES  \n",
      "49651      Resignaton       Voluntary         2013  TERMINATED        STORES  \n",
      "49652          Layoff     Involuntary         2014  TERMINATED        STORES  \n",
      "\n",
      "[49653 rows x 18 columns]>\n"
     ]
    }
   ],
   "source": [
    "print(df.info)"
   ]
  },
  {
   "cell_type": "markdown",
   "metadata": {
    "id": "aFVlzHmwolwU"
   },
   "source": [
    "# 2. Selecting Column in Data Frame"
   ]
  },
  {
   "cell_type": "markdown",
   "metadata": {
    "id": "MHa557TsvdoP"
   },
   "source": [
    "#### 2.A Check Values of the `job_title` column"
   ]
  },
  {
   "cell_type": "code",
   "execution_count": 12,
   "metadata": {
    "id": "qAv8nIvnopMN"
   },
   "outputs": [
    {
     "data": {
      "text/plain": [
       "array(['CEO', 'CEO', 'CEO', ..., 'Cashier', 'Cashier', 'Cashier'],\n",
       "      dtype=object)"
      ]
     },
     "execution_count": 12,
     "metadata": {},
     "output_type": "execute_result"
    }
   ],
   "source": [
    "df=pd.read_csv(\"Employee-attrition.csv\")\n",
    "df['job_title'].values"
   ]
  },
  {
   "cell_type": "markdown",
   "metadata": {
    "id": "TxadHP_NtXbK"
   },
   "source": [
    "#### 1.A Find the shape of the dataframe"
   ]
  },
  {
   "cell_type": "code",
   "execution_count": 13,
   "metadata": {},
   "outputs": [
    {
     "data": {
      "text/plain": [
       "(49653, 18)"
      ]
     },
     "execution_count": 13,
     "metadata": {},
     "output_type": "execute_result"
    }
   ],
   "source": [
    "df.shape"
   ]
  },
  {
   "cell_type": "markdown",
   "metadata": {
    "id": "ZGrf6tiRvn8F"
   },
   "source": [
    "#### 2.B Find how many rows are in each job title\n",
    "\n",
    "\n",
    "\n",
    "```\n",
    "# Expected Output\n",
    "Meat Cutter                        9984\n",
    "Dairy Person                       8590\n",
    "Produce Clerk                      8237\n",
    ".\n",
    ".\n",
    ".\n",
    "```\n",
    "\n"
   ]
  },
  {
   "cell_type": "code",
   "execution_count": 14,
   "metadata": {
    "id": "J1oPyGUxpYv4"
   },
   "outputs": [
    {
     "data": {
      "text/plain": [
       "Meat Cutter                        9984\n",
       "Dairy Person                       8590\n",
       "Produce Clerk                      8237\n",
       "Baker                              8096\n",
       "Cashier                            6816\n",
       "Shelf Stocker                      5622\n",
       "Customer Service Manager            306\n",
       "Processed Foods Manager             289\n",
       "Bakery Manager                      285\n",
       "Meats Manager                       285\n",
       "Produce Manager                     278\n",
       "Store Manager                       271\n",
       "Recruiter                            62\n",
       "HRIS Analyst                         55\n",
       "Accounting Clerk                     50\n",
       "Benefits Admin                       35\n",
       "Labor Relations Analyst              30\n",
       "Accounts Receiveable Clerk           30\n",
       "Trainer                              26\n",
       "Accounts Payable Clerk               25\n",
       "Auditor                              20\n",
       "Systems Analyst                      20\n",
       "Investment Analyst                   20\n",
       "Compensation Analyst                 20\n",
       "Corporate Lawyer                     17\n",
       "CEO                                  10\n",
       "Exec Assistant, VP Stores            10\n",
       "Legal Counsel                        10\n",
       "VP Stores                            10\n",
       "VP Human Resources                   10\n",
       "VP Finance                           10\n",
       "Director, Recruitment                10\n",
       "Exec Assistant, Finance              10\n",
       "Exec Assistant, Human Resources      10\n",
       "CHief Information Officer            10\n",
       "Exec Assistant, Legal Counsel        10\n",
       "Director, Accounts Payable            9\n",
       "Director, Accounts Receivable         9\n",
       "Director, Employee Records            9\n",
       "Director, HR Technology               9\n",
       "Dairy Manager                         9\n",
       "Director, Accounting                  9\n",
       "Director, Investments                 4\n",
       "Director, Labor Relations             4\n",
       "Director, Compensation                4\n",
       "Director, Audit                       4\n",
       "Director, Training                    4\n",
       "Name: job_title, dtype: int64"
      ]
     },
     "execution_count": 14,
     "metadata": {},
     "output_type": "execute_result"
    }
   ],
   "source": [
    "df['job_title'].value_counts()"
   ]
  },
  {
   "cell_type": "markdown",
   "metadata": {
    "id": "iGAFnYElwAnu"
   },
   "source": [
    "#### 2.C [BONUS] Write a function to count the number of rows\n",
    "\n",
    "\n",
    "```\n",
    "def row_count(column_name):\n",
    "    number_of_rows = 0\n",
    "    return number_of_rows\n",
    "```\n",
    "\n"
   ]
  },
  {
   "cell_type": "markdown",
   "metadata": {
    "id": "unrVvLl1wjxg"
   },
   "source": [
    "#### 2.D Describe `age`\n",
    "\n",
    "Find the count, mean, std, min, max of the column 'age'"
   ]
  },
  {
   "cell_type": "code",
   "execution_count": 14,
   "metadata": {
    "id": "DGk18B54p1Lm"
   },
   "outputs": [],
   "source": [
    "# A:"
   ]
  },
  {
   "cell_type": "markdown",
   "metadata": {
    "id": "WStkVqlZw6ZP"
   },
   "source": [
    "##### 2.E [BONUS] Describe all numeric columns of the dataframe\n",
    "\n",
    "Find the count, mean, std, min, max of all columns of the dataframe"
   ]
  },
  {
   "cell_type": "code",
   "execution_count": 15,
   "metadata": {
    "id": "zatP7XTYdsoZ"
   },
   "outputs": [],
   "source": [
    "# A:"
   ]
  },
  {
   "cell_type": "markdown",
   "metadata": {
    "id": "5QjPfOf5sE_T"
   },
   "source": [
    "# 3. Make the index meaningful by making `EmployeeID` the index"
   ]
  },
  {
   "cell_type": "code",
   "execution_count": 15,
   "metadata": {
    "id": "-cFrJykvdsob"
   },
   "outputs": [],
   "source": [
    "df=pd.read_csv(\"Employee-attrition.csv\")"
   ]
  },
  {
   "cell_type": "markdown",
   "metadata": {
    "id": "gvP4e-sMxUa_"
   },
   "source": [
    "#### 3.A Find a specific row using the index"
   ]
  },
  {
   "cell_type": "code",
   "execution_count": 16,
   "metadata": {
    "id": "vpaI3UKndsof"
   },
   "outputs": [
    {
     "data": {
      "text/plain": [
       "EmployeeID                        1318\n",
       "recorddate_key         12/31/2006 0:00\n",
       "birthdate_key                 1/3/1954\n",
       "orighiredate_key             8/28/1989\n",
       "terminationdate_key           1/1/1900\n",
       "age                                 52\n",
       "length_of_service                   17\n",
       "city_name                    Vancouver\n",
       "department_name              Executive\n",
       "job_title                          CEO\n",
       "store_name                          35\n",
       "gender_short                         M\n",
       "gender_full                       Male\n",
       "termreason_desc         Not Applicable\n",
       "termtype_desc           Not Applicable\n",
       "STATUS_YEAR                       2006\n",
       "STATUS                          ACTIVE\n",
       "BUSINESS_UNIT               HEADOFFICE\n",
       "Name: 0, dtype: object"
      ]
     },
     "execution_count": 16,
     "metadata": {},
     "output_type": "execute_result"
    }
   ],
   "source": [
    "df.iloc[0]"
   ]
  },
  {
   "cell_type": "markdown",
   "metadata": {
    "id": "PYE7wF1xxtUr"
   },
   "source": [
    "#### 3.B Sort the dataframe using the index"
   ]
  },
  {
   "cell_type": "code",
   "execution_count": 17,
   "metadata": {
    "id": "qjhgMeUmdsoj"
   },
   "outputs": [
    {
     "data": {
      "text/html": [
       "<div>\n",
       "<style scoped>\n",
       "    .dataframe tbody tr th:only-of-type {\n",
       "        vertical-align: middle;\n",
       "    }\n",
       "\n",
       "    .dataframe tbody tr th {\n",
       "        vertical-align: top;\n",
       "    }\n",
       "\n",
       "    .dataframe thead th {\n",
       "        text-align: right;\n",
       "    }\n",
       "</style>\n",
       "<table border=\"1\" class=\"dataframe\">\n",
       "  <thead>\n",
       "    <tr style=\"text-align: right;\">\n",
       "      <th></th>\n",
       "      <th>EmployeeID</th>\n",
       "      <th>recorddate_key</th>\n",
       "      <th>birthdate_key</th>\n",
       "      <th>orighiredate_key</th>\n",
       "      <th>terminationdate_key</th>\n",
       "      <th>age</th>\n",
       "      <th>length_of_service</th>\n",
       "      <th>city_name</th>\n",
       "      <th>department_name</th>\n",
       "      <th>job_title</th>\n",
       "      <th>store_name</th>\n",
       "      <th>gender_short</th>\n",
       "      <th>gender_full</th>\n",
       "      <th>termreason_desc</th>\n",
       "      <th>termtype_desc</th>\n",
       "      <th>STATUS_YEAR</th>\n",
       "      <th>STATUS</th>\n",
       "      <th>BUSINESS_UNIT</th>\n",
       "    </tr>\n",
       "  </thead>\n",
       "  <tbody>\n",
       "    <tr>\n",
       "      <th>0</th>\n",
       "      <td>1318</td>\n",
       "      <td>12/31/2006 0:00</td>\n",
       "      <td>1/3/1954</td>\n",
       "      <td>8/28/1989</td>\n",
       "      <td>1/1/1900</td>\n",
       "      <td>52</td>\n",
       "      <td>17</td>\n",
       "      <td>Vancouver</td>\n",
       "      <td>Executive</td>\n",
       "      <td>CEO</td>\n",
       "      <td>35</td>\n",
       "      <td>M</td>\n",
       "      <td>Male</td>\n",
       "      <td>Not Applicable</td>\n",
       "      <td>Not Applicable</td>\n",
       "      <td>2006</td>\n",
       "      <td>ACTIVE</td>\n",
       "      <td>HEADOFFICE</td>\n",
       "    </tr>\n",
       "    <tr>\n",
       "      <th>1</th>\n",
       "      <td>1318</td>\n",
       "      <td>12/31/2007 0:00</td>\n",
       "      <td>1/3/1954</td>\n",
       "      <td>8/28/1989</td>\n",
       "      <td>1/1/1900</td>\n",
       "      <td>53</td>\n",
       "      <td>18</td>\n",
       "      <td>Vancouver</td>\n",
       "      <td>Executive</td>\n",
       "      <td>CEO</td>\n",
       "      <td>35</td>\n",
       "      <td>M</td>\n",
       "      <td>Male</td>\n",
       "      <td>Not Applicable</td>\n",
       "      <td>Not Applicable</td>\n",
       "      <td>2007</td>\n",
       "      <td>ACTIVE</td>\n",
       "      <td>HEADOFFICE</td>\n",
       "    </tr>\n",
       "    <tr>\n",
       "      <th>2</th>\n",
       "      <td>1318</td>\n",
       "      <td>12/31/2008 0:00</td>\n",
       "      <td>1/3/1954</td>\n",
       "      <td>8/28/1989</td>\n",
       "      <td>1/1/1900</td>\n",
       "      <td>54</td>\n",
       "      <td>19</td>\n",
       "      <td>Vancouver</td>\n",
       "      <td>Executive</td>\n",
       "      <td>CEO</td>\n",
       "      <td>35</td>\n",
       "      <td>M</td>\n",
       "      <td>Male</td>\n",
       "      <td>Not Applicable</td>\n",
       "      <td>Not Applicable</td>\n",
       "      <td>2008</td>\n",
       "      <td>ACTIVE</td>\n",
       "      <td>HEADOFFICE</td>\n",
       "    </tr>\n",
       "    <tr>\n",
       "      <th>3</th>\n",
       "      <td>1318</td>\n",
       "      <td>12/31/2009 0:00</td>\n",
       "      <td>1/3/1954</td>\n",
       "      <td>8/28/1989</td>\n",
       "      <td>1/1/1900</td>\n",
       "      <td>55</td>\n",
       "      <td>20</td>\n",
       "      <td>Vancouver</td>\n",
       "      <td>Executive</td>\n",
       "      <td>CEO</td>\n",
       "      <td>35</td>\n",
       "      <td>M</td>\n",
       "      <td>Male</td>\n",
       "      <td>Not Applicable</td>\n",
       "      <td>Not Applicable</td>\n",
       "      <td>2009</td>\n",
       "      <td>ACTIVE</td>\n",
       "      <td>HEADOFFICE</td>\n",
       "    </tr>\n",
       "    <tr>\n",
       "      <th>4</th>\n",
       "      <td>1318</td>\n",
       "      <td>12/31/2010 0:00</td>\n",
       "      <td>1/3/1954</td>\n",
       "      <td>8/28/1989</td>\n",
       "      <td>1/1/1900</td>\n",
       "      <td>56</td>\n",
       "      <td>21</td>\n",
       "      <td>Vancouver</td>\n",
       "      <td>Executive</td>\n",
       "      <td>CEO</td>\n",
       "      <td>35</td>\n",
       "      <td>M</td>\n",
       "      <td>Male</td>\n",
       "      <td>Not Applicable</td>\n",
       "      <td>Not Applicable</td>\n",
       "      <td>2010</td>\n",
       "      <td>ACTIVE</td>\n",
       "      <td>HEADOFFICE</td>\n",
       "    </tr>\n",
       "    <tr>\n",
       "      <th>...</th>\n",
       "      <td>...</td>\n",
       "      <td>...</td>\n",
       "      <td>...</td>\n",
       "      <td>...</td>\n",
       "      <td>...</td>\n",
       "      <td>...</td>\n",
       "      <td>...</td>\n",
       "      <td>...</td>\n",
       "      <td>...</td>\n",
       "      <td>...</td>\n",
       "      <td>...</td>\n",
       "      <td>...</td>\n",
       "      <td>...</td>\n",
       "      <td>...</td>\n",
       "      <td>...</td>\n",
       "      <td>...</td>\n",
       "      <td>...</td>\n",
       "      <td>...</td>\n",
       "    </tr>\n",
       "    <tr>\n",
       "      <th>49648</th>\n",
       "      <td>8258</td>\n",
       "      <td>12/1/2015 0:00</td>\n",
       "      <td>5/28/1994</td>\n",
       "      <td>8/19/2013</td>\n",
       "      <td>12/30/2015</td>\n",
       "      <td>21</td>\n",
       "      <td>2</td>\n",
       "      <td>Valemount</td>\n",
       "      <td>Dairy</td>\n",
       "      <td>Dairy Person</td>\n",
       "      <td>34</td>\n",
       "      <td>M</td>\n",
       "      <td>Male</td>\n",
       "      <td>Layoff</td>\n",
       "      <td>Involuntary</td>\n",
       "      <td>2015</td>\n",
       "      <td>TERMINATED</td>\n",
       "      <td>STORES</td>\n",
       "    </tr>\n",
       "    <tr>\n",
       "      <th>49649</th>\n",
       "      <td>8264</td>\n",
       "      <td>8/1/2013 0:00</td>\n",
       "      <td>6/13/1994</td>\n",
       "      <td>8/27/2013</td>\n",
       "      <td>8/30/2013</td>\n",
       "      <td>19</td>\n",
       "      <td>0</td>\n",
       "      <td>Vancouver</td>\n",
       "      <td>Customer Service</td>\n",
       "      <td>Cashier</td>\n",
       "      <td>44</td>\n",
       "      <td>F</td>\n",
       "      <td>Female</td>\n",
       "      <td>Resignaton</td>\n",
       "      <td>Voluntary</td>\n",
       "      <td>2013</td>\n",
       "      <td>TERMINATED</td>\n",
       "      <td>STORES</td>\n",
       "    </tr>\n",
       "    <tr>\n",
       "      <th>49650</th>\n",
       "      <td>8279</td>\n",
       "      <td>12/1/2015 0:00</td>\n",
       "      <td>7/18/1994</td>\n",
       "      <td>9/15/2013</td>\n",
       "      <td>12/30/2015</td>\n",
       "      <td>21</td>\n",
       "      <td>2</td>\n",
       "      <td>White Rock</td>\n",
       "      <td>Customer Service</td>\n",
       "      <td>Cashier</td>\n",
       "      <td>39</td>\n",
       "      <td>F</td>\n",
       "      <td>Female</td>\n",
       "      <td>Layoff</td>\n",
       "      <td>Involuntary</td>\n",
       "      <td>2015</td>\n",
       "      <td>TERMINATED</td>\n",
       "      <td>STORES</td>\n",
       "    </tr>\n",
       "    <tr>\n",
       "      <th>49651</th>\n",
       "      <td>8296</td>\n",
       "      <td>12/1/2013 0:00</td>\n",
       "      <td>9/2/1994</td>\n",
       "      <td>10/9/2013</td>\n",
       "      <td>12/31/2013</td>\n",
       "      <td>19</td>\n",
       "      <td>0</td>\n",
       "      <td>Kelowna</td>\n",
       "      <td>Customer Service</td>\n",
       "      <td>Cashier</td>\n",
       "      <td>16</td>\n",
       "      <td>F</td>\n",
       "      <td>Female</td>\n",
       "      <td>Resignaton</td>\n",
       "      <td>Voluntary</td>\n",
       "      <td>2013</td>\n",
       "      <td>TERMINATED</td>\n",
       "      <td>STORES</td>\n",
       "    </tr>\n",
       "    <tr>\n",
       "      <th>49652</th>\n",
       "      <td>8321</td>\n",
       "      <td>12/1/2014 0:00</td>\n",
       "      <td>11/28/1994</td>\n",
       "      <td>11/24/2013</td>\n",
       "      <td>12/30/2014</td>\n",
       "      <td>20</td>\n",
       "      <td>1</td>\n",
       "      <td>Grand Forks</td>\n",
       "      <td>Customer Service</td>\n",
       "      <td>Cashier</td>\n",
       "      <td>13</td>\n",
       "      <td>F</td>\n",
       "      <td>Female</td>\n",
       "      <td>Layoff</td>\n",
       "      <td>Involuntary</td>\n",
       "      <td>2014</td>\n",
       "      <td>TERMINATED</td>\n",
       "      <td>STORES</td>\n",
       "    </tr>\n",
       "  </tbody>\n",
       "</table>\n",
       "<p>49653 rows × 18 columns</p>\n",
       "</div>"
      ],
      "text/plain": [
       "       EmployeeID   recorddate_key birthdate_key orighiredate_key  \\\n",
       "0            1318  12/31/2006 0:00      1/3/1954        8/28/1989   \n",
       "1            1318  12/31/2007 0:00      1/3/1954        8/28/1989   \n",
       "2            1318  12/31/2008 0:00      1/3/1954        8/28/1989   \n",
       "3            1318  12/31/2009 0:00      1/3/1954        8/28/1989   \n",
       "4            1318  12/31/2010 0:00      1/3/1954        8/28/1989   \n",
       "...           ...              ...           ...              ...   \n",
       "49648        8258   12/1/2015 0:00     5/28/1994        8/19/2013   \n",
       "49649        8264    8/1/2013 0:00     6/13/1994        8/27/2013   \n",
       "49650        8279   12/1/2015 0:00     7/18/1994        9/15/2013   \n",
       "49651        8296   12/1/2013 0:00      9/2/1994        10/9/2013   \n",
       "49652        8321   12/1/2014 0:00    11/28/1994       11/24/2013   \n",
       "\n",
       "      terminationdate_key  age  length_of_service    city_name  \\\n",
       "0                1/1/1900   52                 17    Vancouver   \n",
       "1                1/1/1900   53                 18    Vancouver   \n",
       "2                1/1/1900   54                 19    Vancouver   \n",
       "3                1/1/1900   55                 20    Vancouver   \n",
       "4                1/1/1900   56                 21    Vancouver   \n",
       "...                   ...  ...                ...          ...   \n",
       "49648          12/30/2015   21                  2    Valemount   \n",
       "49649           8/30/2013   19                  0    Vancouver   \n",
       "49650          12/30/2015   21                  2   White Rock   \n",
       "49651          12/31/2013   19                  0      Kelowna   \n",
       "49652          12/30/2014   20                  1  Grand Forks   \n",
       "\n",
       "        department_name     job_title  store_name gender_short gender_full  \\\n",
       "0             Executive           CEO          35            M        Male   \n",
       "1             Executive           CEO          35            M        Male   \n",
       "2             Executive           CEO          35            M        Male   \n",
       "3             Executive           CEO          35            M        Male   \n",
       "4             Executive           CEO          35            M        Male   \n",
       "...                 ...           ...         ...          ...         ...   \n",
       "49648             Dairy  Dairy Person          34            M        Male   \n",
       "49649  Customer Service       Cashier          44            F      Female   \n",
       "49650  Customer Service       Cashier          39            F      Female   \n",
       "49651  Customer Service       Cashier          16            F      Female   \n",
       "49652  Customer Service       Cashier          13            F      Female   \n",
       "\n",
       "      termreason_desc   termtype_desc  STATUS_YEAR      STATUS BUSINESS_UNIT  \n",
       "0      Not Applicable  Not Applicable         2006      ACTIVE    HEADOFFICE  \n",
       "1      Not Applicable  Not Applicable         2007      ACTIVE    HEADOFFICE  \n",
       "2      Not Applicable  Not Applicable         2008      ACTIVE    HEADOFFICE  \n",
       "3      Not Applicable  Not Applicable         2009      ACTIVE    HEADOFFICE  \n",
       "4      Not Applicable  Not Applicable         2010      ACTIVE    HEADOFFICE  \n",
       "...               ...             ...          ...         ...           ...  \n",
       "49648          Layoff     Involuntary         2015  TERMINATED        STORES  \n",
       "49649      Resignaton       Voluntary         2013  TERMINATED        STORES  \n",
       "49650          Layoff     Involuntary         2015  TERMINATED        STORES  \n",
       "49651      Resignaton       Voluntary         2013  TERMINATED        STORES  \n",
       "49652          Layoff     Involuntary         2014  TERMINATED        STORES  \n",
       "\n",
       "[49653 rows x 18 columns]"
      ]
     },
     "execution_count": 17,
     "metadata": {},
     "output_type": "execute_result"
    }
   ],
   "source": [
    "df.sort_index()"
   ]
  },
  {
   "cell_type": "markdown",
   "metadata": {
    "id": "9ElW7kYEyJpc"
   },
   "source": [
    "#### 3.C [BONUS] Sort the dataframe using `age`"
   ]
  },
  {
   "cell_type": "code",
   "execution_count": 19,
   "metadata": {
    "id": "dhI0huT13sQc"
   },
   "outputs": [
    {
     "data": {
      "text/html": [
       "<div>\n",
       "<style scoped>\n",
       "    .dataframe tbody tr th:only-of-type {\n",
       "        vertical-align: middle;\n",
       "    }\n",
       "\n",
       "    .dataframe tbody tr th {\n",
       "        vertical-align: top;\n",
       "    }\n",
       "\n",
       "    .dataframe thead th {\n",
       "        text-align: right;\n",
       "    }\n",
       "</style>\n",
       "<table border=\"1\" class=\"dataframe\">\n",
       "  <thead>\n",
       "    <tr style=\"text-align: right;\">\n",
       "      <th></th>\n",
       "      <th>EmployeeID</th>\n",
       "      <th>recorddate_key</th>\n",
       "      <th>birthdate_key</th>\n",
       "      <th>orighiredate_key</th>\n",
       "      <th>terminationdate_key</th>\n",
       "      <th>age</th>\n",
       "      <th>length_of_service</th>\n",
       "      <th>city_name</th>\n",
       "      <th>department_name</th>\n",
       "      <th>job_title</th>\n",
       "      <th>store_name</th>\n",
       "      <th>gender_short</th>\n",
       "      <th>gender_full</th>\n",
       "      <th>termreason_desc</th>\n",
       "      <th>termtype_desc</th>\n",
       "      <th>STATUS_YEAR</th>\n",
       "      <th>STATUS</th>\n",
       "      <th>BUSINESS_UNIT</th>\n",
       "    </tr>\n",
       "  </thead>\n",
       "  <tbody>\n",
       "    <tr>\n",
       "      <th>48132</th>\n",
       "      <td>8325</td>\n",
       "      <td>12/31/2013 0:00</td>\n",
       "      <td>12/7/1994</td>\n",
       "      <td>11/29/2013</td>\n",
       "      <td>1/1/1900</td>\n",
       "      <td>19</td>\n",
       "      <td>0</td>\n",
       "      <td>Cranbrook</td>\n",
       "      <td>Customer Service</td>\n",
       "      <td>Cashier</td>\n",
       "      <td>8</td>\n",
       "      <td>M</td>\n",
       "      <td>Male</td>\n",
       "      <td>Not Applicable</td>\n",
       "      <td>Not Applicable</td>\n",
       "      <td>2013</td>\n",
       "      <td>ACTIVE</td>\n",
       "      <td>STORES</td>\n",
       "    </tr>\n",
       "    <tr>\n",
       "      <th>47925</th>\n",
       "      <td>8253</td>\n",
       "      <td>12/31/2013 0:00</td>\n",
       "      <td>5/15/1994</td>\n",
       "      <td>8/12/2013</td>\n",
       "      <td>1/1/1900</td>\n",
       "      <td>19</td>\n",
       "      <td>0</td>\n",
       "      <td>North Vancouver</td>\n",
       "      <td>Customer Service</td>\n",
       "      <td>Cashier</td>\n",
       "      <td>22</td>\n",
       "      <td>F</td>\n",
       "      <td>Female</td>\n",
       "      <td>Not Applicable</td>\n",
       "      <td>Not Applicable</td>\n",
       "      <td>2013</td>\n",
       "      <td>ACTIVE</td>\n",
       "      <td>STORES</td>\n",
       "    </tr>\n",
       "    <tr>\n",
       "      <th>47922</th>\n",
       "      <td>8252</td>\n",
       "      <td>12/31/2013 0:00</td>\n",
       "      <td>5/10/1994</td>\n",
       "      <td>8/9/2013</td>\n",
       "      <td>1/1/1900</td>\n",
       "      <td>19</td>\n",
       "      <td>0</td>\n",
       "      <td>Victoria</td>\n",
       "      <td>Customer Service</td>\n",
       "      <td>Cashier</td>\n",
       "      <td>46</td>\n",
       "      <td>F</td>\n",
       "      <td>Female</td>\n",
       "      <td>Not Applicable</td>\n",
       "      <td>Not Applicable</td>\n",
       "      <td>2013</td>\n",
       "      <td>ACTIVE</td>\n",
       "      <td>STORES</td>\n",
       "    </tr>\n",
       "    <tr>\n",
       "      <th>47919</th>\n",
       "      <td>8251</td>\n",
       "      <td>12/31/2013 0:00</td>\n",
       "      <td>5/7/1994</td>\n",
       "      <td>8/7/2013</td>\n",
       "      <td>1/1/1900</td>\n",
       "      <td>19</td>\n",
       "      <td>0</td>\n",
       "      <td>Vancouver</td>\n",
       "      <td>Customer Service</td>\n",
       "      <td>Cashier</td>\n",
       "      <td>44</td>\n",
       "      <td>F</td>\n",
       "      <td>Female</td>\n",
       "      <td>Not Applicable</td>\n",
       "      <td>Not Applicable</td>\n",
       "      <td>2013</td>\n",
       "      <td>ACTIVE</td>\n",
       "      <td>STORES</td>\n",
       "    </tr>\n",
       "    <tr>\n",
       "      <th>47916</th>\n",
       "      <td>8250</td>\n",
       "      <td>12/31/2013 0:00</td>\n",
       "      <td>4/26/1994</td>\n",
       "      <td>8/2/2013</td>\n",
       "      <td>1/1/1900</td>\n",
       "      <td>19</td>\n",
       "      <td>0</td>\n",
       "      <td>Burnaby</td>\n",
       "      <td>Dairy</td>\n",
       "      <td>Dairy Person</td>\n",
       "      <td>5</td>\n",
       "      <td>F</td>\n",
       "      <td>Female</td>\n",
       "      <td>Not Applicable</td>\n",
       "      <td>Not Applicable</td>\n",
       "      <td>2013</td>\n",
       "      <td>ACTIVE</td>\n",
       "      <td>STORES</td>\n",
       "    </tr>\n",
       "    <tr>\n",
       "      <th>...</th>\n",
       "      <td>...</td>\n",
       "      <td>...</td>\n",
       "      <td>...</td>\n",
       "      <td>...</td>\n",
       "      <td>...</td>\n",
       "      <td>...</td>\n",
       "      <td>...</td>\n",
       "      <td>...</td>\n",
       "      <td>...</td>\n",
       "      <td>...</td>\n",
       "      <td>...</td>\n",
       "      <td>...</td>\n",
       "      <td>...</td>\n",
       "      <td>...</td>\n",
       "      <td>...</td>\n",
       "      <td>...</td>\n",
       "      <td>...</td>\n",
       "      <td>...</td>\n",
       "    </tr>\n",
       "    <tr>\n",
       "      <th>48635</th>\n",
       "      <td>3262</td>\n",
       "      <td>8/1/2008 0:00</td>\n",
       "      <td>8/23/1943</td>\n",
       "      <td>2/28/1995</td>\n",
       "      <td>8/23/2008</td>\n",
       "      <td>65</td>\n",
       "      <td>13</td>\n",
       "      <td>Nanaimo</td>\n",
       "      <td>Meats</td>\n",
       "      <td>Meat Cutter</td>\n",
       "      <td>18</td>\n",
       "      <td>F</td>\n",
       "      <td>Female</td>\n",
       "      <td>Retirement</td>\n",
       "      <td>Voluntary</td>\n",
       "      <td>2008</td>\n",
       "      <td>TERMINATED</td>\n",
       "      <td>STORES</td>\n",
       "    </tr>\n",
       "    <tr>\n",
       "      <th>48634</th>\n",
       "      <td>3248</td>\n",
       "      <td>8/1/2008 0:00</td>\n",
       "      <td>8/14/1943</td>\n",
       "      <td>2/19/1995</td>\n",
       "      <td>8/14/2008</td>\n",
       "      <td>65</td>\n",
       "      <td>13</td>\n",
       "      <td>Vancouver</td>\n",
       "      <td>Dairy</td>\n",
       "      <td>Dairy Person</td>\n",
       "      <td>35</td>\n",
       "      <td>F</td>\n",
       "      <td>Female</td>\n",
       "      <td>Retirement</td>\n",
       "      <td>Voluntary</td>\n",
       "      <td>2008</td>\n",
       "      <td>TERMINATED</td>\n",
       "      <td>STORES</td>\n",
       "    </tr>\n",
       "    <tr>\n",
       "      <th>49127</th>\n",
       "      <td>4948</td>\n",
       "      <td>7/1/2013 0:00</td>\n",
       "      <td>7/9/1948</td>\n",
       "      <td>1/14/2000</td>\n",
       "      <td>7/9/2013</td>\n",
       "      <td>65</td>\n",
       "      <td>13</td>\n",
       "      <td>Burnaby</td>\n",
       "      <td>Produce</td>\n",
       "      <td>Produce Clerk</td>\n",
       "      <td>5</td>\n",
       "      <td>F</td>\n",
       "      <td>Female</td>\n",
       "      <td>Retirement</td>\n",
       "      <td>Voluntary</td>\n",
       "      <td>2013</td>\n",
       "      <td>TERMINATED</td>\n",
       "      <td>STORES</td>\n",
       "    </tr>\n",
       "    <tr>\n",
       "      <th>48651</th>\n",
       "      <td>3356</td>\n",
       "      <td>11/1/2008 0:00</td>\n",
       "      <td>11/18/1943</td>\n",
       "      <td>5/26/1995</td>\n",
       "      <td>11/18/2008</td>\n",
       "      <td>65</td>\n",
       "      <td>13</td>\n",
       "      <td>Nanaimo</td>\n",
       "      <td>Meats</td>\n",
       "      <td>Meat Cutter</td>\n",
       "      <td>18</td>\n",
       "      <td>F</td>\n",
       "      <td>Female</td>\n",
       "      <td>Retirement</td>\n",
       "      <td>Voluntary</td>\n",
       "      <td>2008</td>\n",
       "      <td>TERMINATED</td>\n",
       "      <td>STORES</td>\n",
       "    </tr>\n",
       "    <tr>\n",
       "      <th>48820</th>\n",
       "      <td>4138</td>\n",
       "      <td>2/1/2011 0:00</td>\n",
       "      <td>2/12/1946</td>\n",
       "      <td>8/20/1997</td>\n",
       "      <td>2/12/2011</td>\n",
       "      <td>65</td>\n",
       "      <td>13</td>\n",
       "      <td>Surrey</td>\n",
       "      <td>Produce</td>\n",
       "      <td>Produce Clerk</td>\n",
       "      <td>31</td>\n",
       "      <td>F</td>\n",
       "      <td>Female</td>\n",
       "      <td>Retirement</td>\n",
       "      <td>Voluntary</td>\n",
       "      <td>2011</td>\n",
       "      <td>TERMINATED</td>\n",
       "      <td>STORES</td>\n",
       "    </tr>\n",
       "  </tbody>\n",
       "</table>\n",
       "<p>49653 rows × 18 columns</p>\n",
       "</div>"
      ],
      "text/plain": [
       "       EmployeeID   recorddate_key birthdate_key orighiredate_key  \\\n",
       "48132        8325  12/31/2013 0:00     12/7/1994       11/29/2013   \n",
       "47925        8253  12/31/2013 0:00     5/15/1994        8/12/2013   \n",
       "47922        8252  12/31/2013 0:00     5/10/1994         8/9/2013   \n",
       "47919        8251  12/31/2013 0:00      5/7/1994         8/7/2013   \n",
       "47916        8250  12/31/2013 0:00     4/26/1994         8/2/2013   \n",
       "...           ...              ...           ...              ...   \n",
       "48635        3262    8/1/2008 0:00     8/23/1943        2/28/1995   \n",
       "48634        3248    8/1/2008 0:00     8/14/1943        2/19/1995   \n",
       "49127        4948    7/1/2013 0:00      7/9/1948        1/14/2000   \n",
       "48651        3356   11/1/2008 0:00    11/18/1943        5/26/1995   \n",
       "48820        4138    2/1/2011 0:00     2/12/1946        8/20/1997   \n",
       "\n",
       "      terminationdate_key  age  length_of_service        city_name  \\\n",
       "48132            1/1/1900   19                  0        Cranbrook   \n",
       "47925            1/1/1900   19                  0  North Vancouver   \n",
       "47922            1/1/1900   19                  0         Victoria   \n",
       "47919            1/1/1900   19                  0        Vancouver   \n",
       "47916            1/1/1900   19                  0          Burnaby   \n",
       "...                   ...  ...                ...              ...   \n",
       "48635           8/23/2008   65                 13          Nanaimo   \n",
       "48634           8/14/2008   65                 13        Vancouver   \n",
       "49127            7/9/2013   65                 13          Burnaby   \n",
       "48651          11/18/2008   65                 13          Nanaimo   \n",
       "48820           2/12/2011   65                 13           Surrey   \n",
       "\n",
       "        department_name      job_title  store_name gender_short gender_full  \\\n",
       "48132  Customer Service        Cashier           8            M        Male   \n",
       "47925  Customer Service        Cashier          22            F      Female   \n",
       "47922  Customer Service        Cashier          46            F      Female   \n",
       "47919  Customer Service        Cashier          44            F      Female   \n",
       "47916             Dairy   Dairy Person           5            F      Female   \n",
       "...                 ...            ...         ...          ...         ...   \n",
       "48635             Meats    Meat Cutter          18            F      Female   \n",
       "48634             Dairy   Dairy Person          35            F      Female   \n",
       "49127           Produce  Produce Clerk           5            F      Female   \n",
       "48651             Meats    Meat Cutter          18            F      Female   \n",
       "48820           Produce  Produce Clerk          31            F      Female   \n",
       "\n",
       "      termreason_desc   termtype_desc  STATUS_YEAR      STATUS BUSINESS_UNIT  \n",
       "48132  Not Applicable  Not Applicable         2013      ACTIVE        STORES  \n",
       "47925  Not Applicable  Not Applicable         2013      ACTIVE        STORES  \n",
       "47922  Not Applicable  Not Applicable         2013      ACTIVE        STORES  \n",
       "47919  Not Applicable  Not Applicable         2013      ACTIVE        STORES  \n",
       "47916  Not Applicable  Not Applicable         2013      ACTIVE        STORES  \n",
       "...               ...             ...          ...         ...           ...  \n",
       "48635      Retirement       Voluntary         2008  TERMINATED        STORES  \n",
       "48634      Retirement       Voluntary         2008  TERMINATED        STORES  \n",
       "49127      Retirement       Voluntary         2013  TERMINATED        STORES  \n",
       "48651      Retirement       Voluntary         2008  TERMINATED        STORES  \n",
       "48820      Retirement       Voluntary         2011  TERMINATED        STORES  \n",
       "\n",
       "[49653 rows x 18 columns]"
      ]
     },
     "execution_count": 19,
     "metadata": {},
     "output_type": "execute_result"
    }
   ],
   "source": [
    "df.sort_values(by='age')"
   ]
  },
  {
   "cell_type": "markdown",
   "metadata": {
    "id": "VvveQ2cAySpi"
   },
   "source": [
    "#### 3.D [BONUS] Using `sample` select any row "
   ]
  },
  {
   "cell_type": "code",
   "execution_count": 20,
   "metadata": {
    "id": "4nVrO5Pwdsom"
   },
   "outputs": [],
   "source": [
    "# A:"
   ]
  },
  {
   "cell_type": "markdown",
   "metadata": {
    "id": "5XeLtowlsaYk"
   },
   "source": [
    "# 4. Query Data Frame\n",
    "\n",
    "#### 4.A Find rows Where `job_title` is CEO"
   ]
  },
  {
   "cell_type": "code",
   "execution_count": 30,
   "metadata": {
    "id": "11b0ZSKcsi3Q"
   },
   "outputs": [
    {
     "data": {
      "text/html": [
       "<div>\n",
       "<style scoped>\n",
       "    .dataframe tbody tr th:only-of-type {\n",
       "        vertical-align: middle;\n",
       "    }\n",
       "\n",
       "    .dataframe tbody tr th {\n",
       "        vertical-align: top;\n",
       "    }\n",
       "\n",
       "    .dataframe thead th {\n",
       "        text-align: right;\n",
       "    }\n",
       "</style>\n",
       "<table border=\"1\" class=\"dataframe\">\n",
       "  <thead>\n",
       "    <tr style=\"text-align: right;\">\n",
       "      <th></th>\n",
       "      <th>EmployeeID</th>\n",
       "      <th>recorddate_key</th>\n",
       "      <th>birthdate_key</th>\n",
       "      <th>orighiredate_key</th>\n",
       "      <th>terminationdate_key</th>\n",
       "      <th>age</th>\n",
       "      <th>length_of_service</th>\n",
       "      <th>city_name</th>\n",
       "      <th>department_name</th>\n",
       "      <th>job_title</th>\n",
       "      <th>store_name</th>\n",
       "      <th>gender_short</th>\n",
       "      <th>gender_full</th>\n",
       "      <th>termreason_desc</th>\n",
       "      <th>termtype_desc</th>\n",
       "      <th>STATUS_YEAR</th>\n",
       "      <th>STATUS</th>\n",
       "      <th>BUSINESS_UNIT</th>\n",
       "    </tr>\n",
       "  </thead>\n",
       "  <tbody>\n",
       "    <tr>\n",
       "      <th>0</th>\n",
       "      <td>1318</td>\n",
       "      <td>12/31/2006 0:00</td>\n",
       "      <td>1/3/1954</td>\n",
       "      <td>8/28/1989</td>\n",
       "      <td>1/1/1900</td>\n",
       "      <td>52</td>\n",
       "      <td>17</td>\n",
       "      <td>Vancouver</td>\n",
       "      <td>Executive</td>\n",
       "      <td>CEO</td>\n",
       "      <td>35</td>\n",
       "      <td>M</td>\n",
       "      <td>Male</td>\n",
       "      <td>Not Applicable</td>\n",
       "      <td>Not Applicable</td>\n",
       "      <td>2006</td>\n",
       "      <td>ACTIVE</td>\n",
       "      <td>HEADOFFICE</td>\n",
       "    </tr>\n",
       "    <tr>\n",
       "      <th>1</th>\n",
       "      <td>1318</td>\n",
       "      <td>12/31/2007 0:00</td>\n",
       "      <td>1/3/1954</td>\n",
       "      <td>8/28/1989</td>\n",
       "      <td>1/1/1900</td>\n",
       "      <td>53</td>\n",
       "      <td>18</td>\n",
       "      <td>Vancouver</td>\n",
       "      <td>Executive</td>\n",
       "      <td>CEO</td>\n",
       "      <td>35</td>\n",
       "      <td>M</td>\n",
       "      <td>Male</td>\n",
       "      <td>Not Applicable</td>\n",
       "      <td>Not Applicable</td>\n",
       "      <td>2007</td>\n",
       "      <td>ACTIVE</td>\n",
       "      <td>HEADOFFICE</td>\n",
       "    </tr>\n",
       "    <tr>\n",
       "      <th>2</th>\n",
       "      <td>1318</td>\n",
       "      <td>12/31/2008 0:00</td>\n",
       "      <td>1/3/1954</td>\n",
       "      <td>8/28/1989</td>\n",
       "      <td>1/1/1900</td>\n",
       "      <td>54</td>\n",
       "      <td>19</td>\n",
       "      <td>Vancouver</td>\n",
       "      <td>Executive</td>\n",
       "      <td>CEO</td>\n",
       "      <td>35</td>\n",
       "      <td>M</td>\n",
       "      <td>Male</td>\n",
       "      <td>Not Applicable</td>\n",
       "      <td>Not Applicable</td>\n",
       "      <td>2008</td>\n",
       "      <td>ACTIVE</td>\n",
       "      <td>HEADOFFICE</td>\n",
       "    </tr>\n",
       "    <tr>\n",
       "      <th>3</th>\n",
       "      <td>1318</td>\n",
       "      <td>12/31/2009 0:00</td>\n",
       "      <td>1/3/1954</td>\n",
       "      <td>8/28/1989</td>\n",
       "      <td>1/1/1900</td>\n",
       "      <td>55</td>\n",
       "      <td>20</td>\n",
       "      <td>Vancouver</td>\n",
       "      <td>Executive</td>\n",
       "      <td>CEO</td>\n",
       "      <td>35</td>\n",
       "      <td>M</td>\n",
       "      <td>Male</td>\n",
       "      <td>Not Applicable</td>\n",
       "      <td>Not Applicable</td>\n",
       "      <td>2009</td>\n",
       "      <td>ACTIVE</td>\n",
       "      <td>HEADOFFICE</td>\n",
       "    </tr>\n",
       "    <tr>\n",
       "      <th>4</th>\n",
       "      <td>1318</td>\n",
       "      <td>12/31/2010 0:00</td>\n",
       "      <td>1/3/1954</td>\n",
       "      <td>8/28/1989</td>\n",
       "      <td>1/1/1900</td>\n",
       "      <td>56</td>\n",
       "      <td>21</td>\n",
       "      <td>Vancouver</td>\n",
       "      <td>Executive</td>\n",
       "      <td>CEO</td>\n",
       "      <td>35</td>\n",
       "      <td>M</td>\n",
       "      <td>Male</td>\n",
       "      <td>Not Applicable</td>\n",
       "      <td>Not Applicable</td>\n",
       "      <td>2010</td>\n",
       "      <td>ACTIVE</td>\n",
       "      <td>HEADOFFICE</td>\n",
       "    </tr>\n",
       "    <tr>\n",
       "      <th>5</th>\n",
       "      <td>1318</td>\n",
       "      <td>12/31/2011 0:00</td>\n",
       "      <td>1/3/1954</td>\n",
       "      <td>8/28/1989</td>\n",
       "      <td>1/1/1900</td>\n",
       "      <td>57</td>\n",
       "      <td>22</td>\n",
       "      <td>Vancouver</td>\n",
       "      <td>Executive</td>\n",
       "      <td>CEO</td>\n",
       "      <td>35</td>\n",
       "      <td>M</td>\n",
       "      <td>Male</td>\n",
       "      <td>Not Applicable</td>\n",
       "      <td>Not Applicable</td>\n",
       "      <td>2011</td>\n",
       "      <td>ACTIVE</td>\n",
       "      <td>HEADOFFICE</td>\n",
       "    </tr>\n",
       "    <tr>\n",
       "      <th>6</th>\n",
       "      <td>1318</td>\n",
       "      <td>12/31/2012 0:00</td>\n",
       "      <td>1/3/1954</td>\n",
       "      <td>8/28/1989</td>\n",
       "      <td>1/1/1900</td>\n",
       "      <td>58</td>\n",
       "      <td>23</td>\n",
       "      <td>Vancouver</td>\n",
       "      <td>Executive</td>\n",
       "      <td>CEO</td>\n",
       "      <td>35</td>\n",
       "      <td>M</td>\n",
       "      <td>Male</td>\n",
       "      <td>Not Applicable</td>\n",
       "      <td>Not Applicable</td>\n",
       "      <td>2012</td>\n",
       "      <td>ACTIVE</td>\n",
       "      <td>HEADOFFICE</td>\n",
       "    </tr>\n",
       "    <tr>\n",
       "      <th>7</th>\n",
       "      <td>1318</td>\n",
       "      <td>12/31/2013 0:00</td>\n",
       "      <td>1/3/1954</td>\n",
       "      <td>8/28/1989</td>\n",
       "      <td>1/1/1900</td>\n",
       "      <td>59</td>\n",
       "      <td>24</td>\n",
       "      <td>Vancouver</td>\n",
       "      <td>Executive</td>\n",
       "      <td>CEO</td>\n",
       "      <td>35</td>\n",
       "      <td>M</td>\n",
       "      <td>Male</td>\n",
       "      <td>Not Applicable</td>\n",
       "      <td>Not Applicable</td>\n",
       "      <td>2013</td>\n",
       "      <td>ACTIVE</td>\n",
       "      <td>HEADOFFICE</td>\n",
       "    </tr>\n",
       "    <tr>\n",
       "      <th>8</th>\n",
       "      <td>1318</td>\n",
       "      <td>12/31/2014 0:00</td>\n",
       "      <td>1/3/1954</td>\n",
       "      <td>8/28/1989</td>\n",
       "      <td>1/1/1900</td>\n",
       "      <td>60</td>\n",
       "      <td>25</td>\n",
       "      <td>Vancouver</td>\n",
       "      <td>Executive</td>\n",
       "      <td>CEO</td>\n",
       "      <td>35</td>\n",
       "      <td>M</td>\n",
       "      <td>Male</td>\n",
       "      <td>Not Applicable</td>\n",
       "      <td>Not Applicable</td>\n",
       "      <td>2014</td>\n",
       "      <td>ACTIVE</td>\n",
       "      <td>HEADOFFICE</td>\n",
       "    </tr>\n",
       "    <tr>\n",
       "      <th>9</th>\n",
       "      <td>1318</td>\n",
       "      <td>12/31/2015 0:00</td>\n",
       "      <td>1/3/1954</td>\n",
       "      <td>8/28/1989</td>\n",
       "      <td>1/1/1900</td>\n",
       "      <td>61</td>\n",
       "      <td>26</td>\n",
       "      <td>Vancouver</td>\n",
       "      <td>Executive</td>\n",
       "      <td>CEO</td>\n",
       "      <td>35</td>\n",
       "      <td>M</td>\n",
       "      <td>Male</td>\n",
       "      <td>Not Applicable</td>\n",
       "      <td>Not Applicable</td>\n",
       "      <td>2015</td>\n",
       "      <td>ACTIVE</td>\n",
       "      <td>HEADOFFICE</td>\n",
       "    </tr>\n",
       "  </tbody>\n",
       "</table>\n",
       "</div>"
      ],
      "text/plain": [
       "   EmployeeID   recorddate_key birthdate_key orighiredate_key  \\\n",
       "0        1318  12/31/2006 0:00      1/3/1954        8/28/1989   \n",
       "1        1318  12/31/2007 0:00      1/3/1954        8/28/1989   \n",
       "2        1318  12/31/2008 0:00      1/3/1954        8/28/1989   \n",
       "3        1318  12/31/2009 0:00      1/3/1954        8/28/1989   \n",
       "4        1318  12/31/2010 0:00      1/3/1954        8/28/1989   \n",
       "5        1318  12/31/2011 0:00      1/3/1954        8/28/1989   \n",
       "6        1318  12/31/2012 0:00      1/3/1954        8/28/1989   \n",
       "7        1318  12/31/2013 0:00      1/3/1954        8/28/1989   \n",
       "8        1318  12/31/2014 0:00      1/3/1954        8/28/1989   \n",
       "9        1318  12/31/2015 0:00      1/3/1954        8/28/1989   \n",
       "\n",
       "  terminationdate_key  age  length_of_service  city_name department_name  \\\n",
       "0            1/1/1900   52                 17  Vancouver       Executive   \n",
       "1            1/1/1900   53                 18  Vancouver       Executive   \n",
       "2            1/1/1900   54                 19  Vancouver       Executive   \n",
       "3            1/1/1900   55                 20  Vancouver       Executive   \n",
       "4            1/1/1900   56                 21  Vancouver       Executive   \n",
       "5            1/1/1900   57                 22  Vancouver       Executive   \n",
       "6            1/1/1900   58                 23  Vancouver       Executive   \n",
       "7            1/1/1900   59                 24  Vancouver       Executive   \n",
       "8            1/1/1900   60                 25  Vancouver       Executive   \n",
       "9            1/1/1900   61                 26  Vancouver       Executive   \n",
       "\n",
       "  job_title  store_name gender_short gender_full termreason_desc  \\\n",
       "0       CEO          35            M        Male  Not Applicable   \n",
       "1       CEO          35            M        Male  Not Applicable   \n",
       "2       CEO          35            M        Male  Not Applicable   \n",
       "3       CEO          35            M        Male  Not Applicable   \n",
       "4       CEO          35            M        Male  Not Applicable   \n",
       "5       CEO          35            M        Male  Not Applicable   \n",
       "6       CEO          35            M        Male  Not Applicable   \n",
       "7       CEO          35            M        Male  Not Applicable   \n",
       "8       CEO          35            M        Male  Not Applicable   \n",
       "9       CEO          35            M        Male  Not Applicable   \n",
       "\n",
       "    termtype_desc  STATUS_YEAR  STATUS BUSINESS_UNIT  \n",
       "0  Not Applicable         2006  ACTIVE    HEADOFFICE  \n",
       "1  Not Applicable         2007  ACTIVE    HEADOFFICE  \n",
       "2  Not Applicable         2008  ACTIVE    HEADOFFICE  \n",
       "3  Not Applicable         2009  ACTIVE    HEADOFFICE  \n",
       "4  Not Applicable         2010  ACTIVE    HEADOFFICE  \n",
       "5  Not Applicable         2011  ACTIVE    HEADOFFICE  \n",
       "6  Not Applicable         2012  ACTIVE    HEADOFFICE  \n",
       "7  Not Applicable         2013  ACTIVE    HEADOFFICE  \n",
       "8  Not Applicable         2014  ACTIVE    HEADOFFICE  \n",
       "9  Not Applicable         2015  ACTIVE    HEADOFFICE  "
      ]
     },
     "execution_count": 30,
     "metadata": {},
     "output_type": "execute_result"
    }
   ],
   "source": [
    "df=pd.read_csv(\"Employee-attrition.csv\")\n",
    "df.loc[df['job_title']=='CEO']\n"
   ]
  },
  {
   "cell_type": "markdown",
   "metadata": {
    "id": "qhN9k6KOylrt"
   },
   "source": [
    "#### 4.B Group by `age` and find how many there are of each age"
   ]
  },
  {
   "cell_type": "code",
   "execution_count": 32,
   "metadata": {
    "id": "Ia56-Vi9dsoo"
   },
   "outputs": [
    {
     "data": {
      "text/plain": [
       "age\n",
       "19     158\n",
       "20     408\n",
       "21     703\n",
       "22     815\n",
       "23     960\n",
       "24    1111\n",
       "25    1197\n",
       "26    1210\n",
       "27    1235\n",
       "28    1225\n",
       "29    1227\n",
       "30    1212\n",
       "31    1146\n",
       "32    1153\n",
       "33    1164\n",
       "34    1188\n",
       "35    1189\n",
       "36    1176\n",
       "37    1149\n",
       "38    1156\n",
       "39    1142\n",
       "40    1130\n",
       "41    1135\n",
       "42    1152\n",
       "43    1150\n",
       "44    1157\n",
       "45    1141\n",
       "46    1161\n",
       "47    1173\n",
       "48    1180\n",
       "49    1196\n",
       "50    1218\n",
       "51    1207\n",
       "52    1188\n",
       "53    1188\n",
       "54    1159\n",
       "55    1168\n",
       "56    1154\n",
       "57    1130\n",
       "58    1130\n",
       "59    1128\n",
       "60    1109\n",
       "61     757\n",
       "62     712\n",
       "63     667\n",
       "64     646\n",
       "65     593\n",
       "dtype: int64"
      ]
     },
     "execution_count": 32,
     "metadata": {},
     "output_type": "execute_result"
    }
   ],
   "source": [
    "df.groupby('age').size()"
   ]
  },
  {
   "cell_type": "markdown",
   "metadata": {
    "id": "L5yQi1wHyuAh"
   },
   "source": [
    "# 5. Visualisation\n",
    "\n",
    "\n",
    "#### 5.A Plot a histogram of `age` "
   ]
  },
  {
   "cell_type": "code",
   "execution_count": 37,
   "metadata": {
    "id": "YcUyfH1tdsor"
   },
   "outputs": [
    {
     "data": {
      "text/plain": [
       "Text(0.5, 1.0, 'histogram of age')"
      ]
     },
     "execution_count": 37,
     "metadata": {},
     "output_type": "execute_result"
    },
    {
     "data": {
      "image/png": "[encoded data removed]",
      "text/plain": [
       "<Figure size 640x480 with 1 Axes>"
      ]
     },
     "metadata": {},
     "output_type": "display_data"
    }
   ],
   "source": [
    "plt.hist(df['age'], bins=10)\n",
    "plt.xlabel('age')\n",
    "plt.ylabel('frequency')\n",
    "plt.title('histogram of age')"
   ]
  },
  {
   "cell_type": "markdown",
   "metadata": {
    "id": "f5ev6X-Uy-CP"
   },
   "source": [
    "#### 5.B BoxPlot of `age`"
   ]
  },
  {
   "cell_type": "code",
   "execution_count": 42,
   "metadata": {
    "id": "ukRrrJFmdsow"
   },
   "outputs": [
    {
     "data": {
      "text/plain": [
       "{'whiskers': [<matplotlib.lines.Line2D at 0x246adc91de0>,\n",
       "  <matplotlib.lines.Line2D at 0x246adc92080>],\n",
       " 'caps': [<matplotlib.lines.Line2D at 0x246adc92320>,\n",
       "  <matplotlib.lines.Line2D at 0x246adc925c0>],\n",
       " 'boxes': [<matplotlib.lines.Line2D at 0x246adc91b40>],\n",
       " 'medians': [<matplotlib.lines.Line2D at 0x246adc92860>],\n",
       " 'fliers': [<matplotlib.lines.Line2D at 0x246adc92b00>],\n",
       " 'means': []}"
      ]
     },
     "execution_count": 42,
     "metadata": {},
     "output_type": "execute_result"
    },
    {
     "data": {
      "image/png": "[encoded data removed]",
      "text/plain": [
       "<Figure size 640x480 with 1 Axes>"
      ]
     },
     "metadata": {},
     "output_type": "display_data"
    }
   ],
   "source": [
    "import matplotlib.pyplot as plt\n",
    "plt.boxplot(df['age'])"
   ]
  },
  {
   "cell_type": "markdown",
   "metadata": {
    "id": "VdvlCmOczGs1"
   },
   "source": [
    "#### 5.C Create a scatterplot of `age` and `length_of_service`"
   ]
  },
  {
   "cell_type": "code",
   "execution_count": 46,
   "metadata": {
    "id": "OZBpp-O5dsoz"
   },
   "outputs": [
    {
     "data": {
      "text/plain": [
       "Text(0, 0.5, 'length of service')"
      ]
     },
     "execution_count": 46,
     "metadata": {},
     "output_type": "execute_result"
    },
    {
     "data": {
      "image/png": "[encoded data removed]",
      "text/plain": [
       "<Figure size 640x480 with 1 Axes>"
      ]
     },
     "metadata": {},
     "output_type": "display_data"
    }
   ],
   "source": [
    "plt.scatter(df['age'], df['length_of_service'])\n",
    "plt.xlabel('age')\n",
    "plt.ylabel('length of service')\n",
    "\n"
   ]
  },
  {
   "cell_type": "markdown",
   "metadata": {
    "id": "O-Mn86xZzjC9"
   },
   "source": [
    "#### 5.D Print a statistical summary of `age`"
   ]
  },
  {
   "cell_type": "code",
   "execution_count": 48,
   "metadata": {
    "id": "gMeCpCUzdso4"
   },
   "outputs": [
    {
     "data": {
      "text/plain": [
       "2089251"
      ]
     },
     "execution_count": 48,
     "metadata": {},
     "output_type": "execute_result"
    }
   ],
   "source": [
    "df['age'].sum()"
   ]
  },
  {
   "cell_type": "markdown",
   "metadata": {
    "id": "XYm9Jsx2pybf"
   },
   "source": [
    "\n",
    "\n",
    "---\n",
    "\n",
    "\n",
    "\n",
    "---\n",
    "\n",
    "\n",
    "\n",
    "> > > > > > > > > © 2023 Institute of Data\n",
    "\n",
    "\n",
    "---\n",
    "\n",
    "\n",
    "\n",
    "---\n",
    "\n",
    "\n",
    "\n"
   ]
  },
  {
   "cell_type": "code",
   "execution_count": null,
   "metadata": {},
   "outputs": [],
   "source": []
  },
  {
   "cell_type": "code",
   "execution_count": null,
   "metadata": {},
   "outputs": [],
   "source": []
  },
  {
   "cell_type": "code",
   "execution_count": null,
   "metadata": {},
   "outputs": [],
   "source": []
  }
 ],
 "metadata": {
  "colab": {
   "provenance": [
    {
     "file_id": "https://github.com/ikfaisal/dsia/blob/master/Pandas01_Lab_Solution.ipynb",
     "timestamp": 1552628309393
    }
   ]
  },
  "kernelspec": {
   "display_name": "Python 3 (ipykernel)",
   "language": "python",
   "name": "python3"
  },
  "language_info": {
   "codemirror_mode": {
    "name": "ipython",
    "version": 3
   },
   "file_extension": ".py",
   "mimetype": "text/x-python",
   "name": "python",
   "nbconvert_exporter": "python",
   "pygments_lexer": "ipython3",
   "version": "3.10.9"
  }
 },
 "nbformat": 4,
 "nbformat_minor": 4
}
